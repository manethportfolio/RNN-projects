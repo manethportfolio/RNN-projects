{
  "nbformat": 4,
  "nbformat_minor": 0,
  "metadata": {
    "colab": {
      "provenance": [],
      "gpuType": "T4"
    },
    "kernelspec": {
      "name": "python3",
      "display_name": "Python 3"
    },
    "language_info": {
      "name": "python"
    },
    "accelerator": "GPU",
    "widgets": {
      "application/vnd.jupyter.widget-state+json": {
        "53228d205a21446aac6d1e048c143b45": {
          "model_module": "@jupyter-widgets/controls",
          "model_name": "HBoxModel",
          "model_module_version": "1.5.0",
          "state": {
            "_dom_classes": [],
            "_model_module": "@jupyter-widgets/controls",
            "_model_module_version": "1.5.0",
            "_model_name": "HBoxModel",
            "_view_count": null,
            "_view_module": "@jupyter-widgets/controls",
            "_view_module_version": "1.5.0",
            "_view_name": "HBoxView",
            "box_style": "",
            "children": [
              "IPY_MODEL_a3aebfe2db694ef8bc454bbd85cd8b12",
              "IPY_MODEL_4858860678a84dfc8722026ea7e04727",
              "IPY_MODEL_29004c2b28254eda86c642fc9cafc8c7"
            ],
            "layout": "IPY_MODEL_2395f36864ad48148daa352d5f6937ac"
          }
        },
        "a3aebfe2db694ef8bc454bbd85cd8b12": {
          "model_module": "@jupyter-widgets/controls",
          "model_name": "HTMLModel",
          "model_module_version": "1.5.0",
          "state": {
            "_dom_classes": [],
            "_model_module": "@jupyter-widgets/controls",
            "_model_module_version": "1.5.0",
            "_model_name": "HTMLModel",
            "_view_count": null,
            "_view_module": "@jupyter-widgets/controls",
            "_view_module_version": "1.5.0",
            "_view_name": "HTMLView",
            "description": "",
            "description_tooltip": null,
            "layout": "IPY_MODEL_21a77440c65042119b6fe8e9b0e7baff",
            "placeholder": "​",
            "style": "IPY_MODEL_b9983846ab2f4b4a8b91c0bad51786db",
            "value": "tokenizer_config.json: 100%"
          }
        },
        "4858860678a84dfc8722026ea7e04727": {
          "model_module": "@jupyter-widgets/controls",
          "model_name": "FloatProgressModel",
          "model_module_version": "1.5.0",
          "state": {
            "_dom_classes": [],
            "_model_module": "@jupyter-widgets/controls",
            "_model_module_version": "1.5.0",
            "_model_name": "FloatProgressModel",
            "_view_count": null,
            "_view_module": "@jupyter-widgets/controls",
            "_view_module_version": "1.5.0",
            "_view_name": "ProgressView",
            "bar_style": "success",
            "description": "",
            "description_tooltip": null,
            "layout": "IPY_MODEL_98e87758ac3b4d6fb91c2f4646c65d63",
            "max": 39,
            "min": 0,
            "orientation": "horizontal",
            "style": "IPY_MODEL_b6680cd8f70945408da54f89a5acbf53",
            "value": 39
          }
        },
        "29004c2b28254eda86c642fc9cafc8c7": {
          "model_module": "@jupyter-widgets/controls",
          "model_name": "HTMLModel",
          "model_module_version": "1.5.0",
          "state": {
            "_dom_classes": [],
            "_model_module": "@jupyter-widgets/controls",
            "_model_module_version": "1.5.0",
            "_model_name": "HTMLModel",
            "_view_count": null,
            "_view_module": "@jupyter-widgets/controls",
            "_view_module_version": "1.5.0",
            "_view_name": "HTMLView",
            "description": "",
            "description_tooltip": null,
            "layout": "IPY_MODEL_e20d2a94481a4f9aa6e814f494701d5d",
            "placeholder": "​",
            "style": "IPY_MODEL_61878534413a44b28d5f943013dd5917",
            "value": " 39.0/39.0 [00:00&lt;00:00, 2.08kB/s]"
          }
        },
        "2395f36864ad48148daa352d5f6937ac": {
          "model_module": "@jupyter-widgets/base",
          "model_name": "LayoutModel",
          "model_module_version": "1.2.0",
          "state": {
            "_model_module": "@jupyter-widgets/base",
            "_model_module_version": "1.2.0",
            "_model_name": "LayoutModel",
            "_view_count": null,
            "_view_module": "@jupyter-widgets/base",
            "_view_module_version": "1.2.0",
            "_view_name": "LayoutView",
            "align_content": null,
            "align_items": null,
            "align_self": null,
            "border": null,
            "bottom": null,
            "display": null,
            "flex": null,
            "flex_flow": null,
            "grid_area": null,
            "grid_auto_columns": null,
            "grid_auto_flow": null,
            "grid_auto_rows": null,
            "grid_column": null,
            "grid_gap": null,
            "grid_row": null,
            "grid_template_areas": null,
            "grid_template_columns": null,
            "grid_template_rows": null,
            "height": null,
            "justify_content": null,
            "justify_items": null,
            "left": null,
            "margin": null,
            "max_height": null,
            "max_width": null,
            "min_height": null,
            "min_width": null,
            "object_fit": null,
            "object_position": null,
            "order": null,
            "overflow": null,
            "overflow_x": null,
            "overflow_y": null,
            "padding": null,
            "right": null,
            "top": null,
            "visibility": null,
            "width": null
          }
        },
        "21a77440c65042119b6fe8e9b0e7baff": {
          "model_module": "@jupyter-widgets/base",
          "model_name": "LayoutModel",
          "model_module_version": "1.2.0",
          "state": {
            "_model_module": "@jupyter-widgets/base",
            "_model_module_version": "1.2.0",
            "_model_name": "LayoutModel",
            "_view_count": null,
            "_view_module": "@jupyter-widgets/base",
            "_view_module_version": "1.2.0",
            "_view_name": "LayoutView",
            "align_content": null,
            "align_items": null,
            "align_self": null,
            "border": null,
            "bottom": null,
            "display": null,
            "flex": null,
            "flex_flow": null,
            "grid_area": null,
            "grid_auto_columns": null,
            "grid_auto_flow": null,
            "grid_auto_rows": null,
            "grid_column": null,
            "grid_gap": null,
            "grid_row": null,
            "grid_template_areas": null,
            "grid_template_columns": null,
            "grid_template_rows": null,
            "height": null,
            "justify_content": null,
            "justify_items": null,
            "left": null,
            "margin": null,
            "max_height": null,
            "max_width": null,
            "min_height": null,
            "min_width": null,
            "object_fit": null,
            "object_position": null,
            "order": null,
            "overflow": null,
            "overflow_x": null,
            "overflow_y": null,
            "padding": null,
            "right": null,
            "top": null,
            "visibility": null,
            "width": null
          }
        },
        "b9983846ab2f4b4a8b91c0bad51786db": {
          "model_module": "@jupyter-widgets/controls",
          "model_name": "DescriptionStyleModel",
          "model_module_version": "1.5.0",
          "state": {
            "_model_module": "@jupyter-widgets/controls",
            "_model_module_version": "1.5.0",
            "_model_name": "DescriptionStyleModel",
            "_view_count": null,
            "_view_module": "@jupyter-widgets/base",
            "_view_module_version": "1.2.0",
            "_view_name": "StyleView",
            "description_width": ""
          }
        },
        "98e87758ac3b4d6fb91c2f4646c65d63": {
          "model_module": "@jupyter-widgets/base",
          "model_name": "LayoutModel",
          "model_module_version": "1.2.0",
          "state": {
            "_model_module": "@jupyter-widgets/base",
            "_model_module_version": "1.2.0",
            "_model_name": "LayoutModel",
            "_view_count": null,
            "_view_module": "@jupyter-widgets/base",
            "_view_module_version": "1.2.0",
            "_view_name": "LayoutView",
            "align_content": null,
            "align_items": null,
            "align_self": null,
            "border": null,
            "bottom": null,
            "display": null,
            "flex": null,
            "flex_flow": null,
            "grid_area": null,
            "grid_auto_columns": null,
            "grid_auto_flow": null,
            "grid_auto_rows": null,
            "grid_column": null,
            "grid_gap": null,
            "grid_row": null,
            "grid_template_areas": null,
            "grid_template_columns": null,
            "grid_template_rows": null,
            "height": null,
            "justify_content": null,
            "justify_items": null,
            "left": null,
            "margin": null,
            "max_height": null,
            "max_width": null,
            "min_height": null,
            "min_width": null,
            "object_fit": null,
            "object_position": null,
            "order": null,
            "overflow": null,
            "overflow_x": null,
            "overflow_y": null,
            "padding": null,
            "right": null,
            "top": null,
            "visibility": null,
            "width": null
          }
        },
        "b6680cd8f70945408da54f89a5acbf53": {
          "model_module": "@jupyter-widgets/controls",
          "model_name": "ProgressStyleModel",
          "model_module_version": "1.5.0",
          "state": {
            "_model_module": "@jupyter-widgets/controls",
            "_model_module_version": "1.5.0",
            "_model_name": "ProgressStyleModel",
            "_view_count": null,
            "_view_module": "@jupyter-widgets/base",
            "_view_module_version": "1.2.0",
            "_view_name": "StyleView",
            "bar_color": null,
            "description_width": ""
          }
        },
        "e20d2a94481a4f9aa6e814f494701d5d": {
          "model_module": "@jupyter-widgets/base",
          "model_name": "LayoutModel",
          "model_module_version": "1.2.0",
          "state": {
            "_model_module": "@jupyter-widgets/base",
            "_model_module_version": "1.2.0",
            "_model_name": "LayoutModel",
            "_view_count": null,
            "_view_module": "@jupyter-widgets/base",
            "_view_module_version": "1.2.0",
            "_view_name": "LayoutView",
            "align_content": null,
            "align_items": null,
            "align_self": null,
            "border": null,
            "bottom": null,
            "display": null,
            "flex": null,
            "flex_flow": null,
            "grid_area": null,
            "grid_auto_columns": null,
            "grid_auto_flow": null,
            "grid_auto_rows": null,
            "grid_column": null,
            "grid_gap": null,
            "grid_row": null,
            "grid_template_areas": null,
            "grid_template_columns": null,
            "grid_template_rows": null,
            "height": null,
            "justify_content": null,
            "justify_items": null,
            "left": null,
            "margin": null,
            "max_height": null,
            "max_width": null,
            "min_height": null,
            "min_width": null,
            "object_fit": null,
            "object_position": null,
            "order": null,
            "overflow": null,
            "overflow_x": null,
            "overflow_y": null,
            "padding": null,
            "right": null,
            "top": null,
            "visibility": null,
            "width": null
          }
        },
        "61878534413a44b28d5f943013dd5917": {
          "model_module": "@jupyter-widgets/controls",
          "model_name": "DescriptionStyleModel",
          "model_module_version": "1.5.0",
          "state": {
            "_model_module": "@jupyter-widgets/controls",
            "_model_module_version": "1.5.0",
            "_model_name": "DescriptionStyleModel",
            "_view_count": null,
            "_view_module": "@jupyter-widgets/base",
            "_view_module_version": "1.2.0",
            "_view_name": "StyleView",
            "description_width": ""
          }
        },
        "7a60eebe71f5496bae680535dcc697ec": {
          "model_module": "@jupyter-widgets/controls",
          "model_name": "HBoxModel",
          "model_module_version": "1.5.0",
          "state": {
            "_dom_classes": [],
            "_model_module": "@jupyter-widgets/controls",
            "_model_module_version": "1.5.0",
            "_model_name": "HBoxModel",
            "_view_count": null,
            "_view_module": "@jupyter-widgets/controls",
            "_view_module_version": "1.5.0",
            "_view_name": "HBoxView",
            "box_style": "",
            "children": [
              "IPY_MODEL_093ec69c849347878c2123376ad446cb",
              "IPY_MODEL_48dc1f97b3054233917ff6f786bff0ba",
              "IPY_MODEL_115f112a49e64aa59568b4e8849b1a1e"
            ],
            "layout": "IPY_MODEL_10261dc6430b406fb3a7e963c4e88eff"
          }
        },
        "093ec69c849347878c2123376ad446cb": {
          "model_module": "@jupyter-widgets/controls",
          "model_name": "HTMLModel",
          "model_module_version": "1.5.0",
          "state": {
            "_dom_classes": [],
            "_model_module": "@jupyter-widgets/controls",
            "_model_module_version": "1.5.0",
            "_model_name": "HTMLModel",
            "_view_count": null,
            "_view_module": "@jupyter-widgets/controls",
            "_view_module_version": "1.5.0",
            "_view_name": "HTMLView",
            "description": "",
            "description_tooltip": null,
            "layout": "IPY_MODEL_27270dd1ce5e4c8aa2907954fbcabd2f",
            "placeholder": "​",
            "style": "IPY_MODEL_08f255d9c06c4ae9a695c8a660c7d6a5",
            "value": "config.json: 100%"
          }
        },
        "48dc1f97b3054233917ff6f786bff0ba": {
          "model_module": "@jupyter-widgets/controls",
          "model_name": "FloatProgressModel",
          "model_module_version": "1.5.0",
          "state": {
            "_dom_classes": [],
            "_model_module": "@jupyter-widgets/controls",
            "_model_module_version": "1.5.0",
            "_model_name": "FloatProgressModel",
            "_view_count": null,
            "_view_module": "@jupyter-widgets/controls",
            "_view_module_version": "1.5.0",
            "_view_name": "ProgressView",
            "bar_style": "success",
            "description": "",
            "description_tooltip": null,
            "layout": "IPY_MODEL_c9a6cb8b8f524d7cae6a258dfabf5bec",
            "max": 953,
            "min": 0,
            "orientation": "horizontal",
            "style": "IPY_MODEL_69040c33b59846379de46a0cce4b0448",
            "value": 953
          }
        },
        "115f112a49e64aa59568b4e8849b1a1e": {
          "model_module": "@jupyter-widgets/controls",
          "model_name": "HTMLModel",
          "model_module_version": "1.5.0",
          "state": {
            "_dom_classes": [],
            "_model_module": "@jupyter-widgets/controls",
            "_model_module_version": "1.5.0",
            "_model_name": "HTMLModel",
            "_view_count": null,
            "_view_module": "@jupyter-widgets/controls",
            "_view_module_version": "1.5.0",
            "_view_name": "HTMLView",
            "description": "",
            "description_tooltip": null,
            "layout": "IPY_MODEL_d7c6e4b9c8704051a6da4cde05e593da",
            "placeholder": "​",
            "style": "IPY_MODEL_4c631e0011e64bc68c1d3cb53624a343",
            "value": " 953/953 [00:00&lt;00:00, 70.9kB/s]"
          }
        },
        "10261dc6430b406fb3a7e963c4e88eff": {
          "model_module": "@jupyter-widgets/base",
          "model_name": "LayoutModel",
          "model_module_version": "1.2.0",
          "state": {
            "_model_module": "@jupyter-widgets/base",
            "_model_module_version": "1.2.0",
            "_model_name": "LayoutModel",
            "_view_count": null,
            "_view_module": "@jupyter-widgets/base",
            "_view_module_version": "1.2.0",
            "_view_name": "LayoutView",
            "align_content": null,
            "align_items": null,
            "align_self": null,
            "border": null,
            "bottom": null,
            "display": null,
            "flex": null,
            "flex_flow": null,
            "grid_area": null,
            "grid_auto_columns": null,
            "grid_auto_flow": null,
            "grid_auto_rows": null,
            "grid_column": null,
            "grid_gap": null,
            "grid_row": null,
            "grid_template_areas": null,
            "grid_template_columns": null,
            "grid_template_rows": null,
            "height": null,
            "justify_content": null,
            "justify_items": null,
            "left": null,
            "margin": null,
            "max_height": null,
            "max_width": null,
            "min_height": null,
            "min_width": null,
            "object_fit": null,
            "object_position": null,
            "order": null,
            "overflow": null,
            "overflow_x": null,
            "overflow_y": null,
            "padding": null,
            "right": null,
            "top": null,
            "visibility": null,
            "width": null
          }
        },
        "27270dd1ce5e4c8aa2907954fbcabd2f": {
          "model_module": "@jupyter-widgets/base",
          "model_name": "LayoutModel",
          "model_module_version": "1.2.0",
          "state": {
            "_model_module": "@jupyter-widgets/base",
            "_model_module_version": "1.2.0",
            "_model_name": "LayoutModel",
            "_view_count": null,
            "_view_module": "@jupyter-widgets/base",
            "_view_module_version": "1.2.0",
            "_view_name": "LayoutView",
            "align_content": null,
            "align_items": null,
            "align_self": null,
            "border": null,
            "bottom": null,
            "display": null,
            "flex": null,
            "flex_flow": null,
            "grid_area": null,
            "grid_auto_columns": null,
            "grid_auto_flow": null,
            "grid_auto_rows": null,
            "grid_column": null,
            "grid_gap": null,
            "grid_row": null,
            "grid_template_areas": null,
            "grid_template_columns": null,
            "grid_template_rows": null,
            "height": null,
            "justify_content": null,
            "justify_items": null,
            "left": null,
            "margin": null,
            "max_height": null,
            "max_width": null,
            "min_height": null,
            "min_width": null,
            "object_fit": null,
            "object_position": null,
            "order": null,
            "overflow": null,
            "overflow_x": null,
            "overflow_y": null,
            "padding": null,
            "right": null,
            "top": null,
            "visibility": null,
            "width": null
          }
        },
        "08f255d9c06c4ae9a695c8a660c7d6a5": {
          "model_module": "@jupyter-widgets/controls",
          "model_name": "DescriptionStyleModel",
          "model_module_version": "1.5.0",
          "state": {
            "_model_module": "@jupyter-widgets/controls",
            "_model_module_version": "1.5.0",
            "_model_name": "DescriptionStyleModel",
            "_view_count": null,
            "_view_module": "@jupyter-widgets/base",
            "_view_module_version": "1.2.0",
            "_view_name": "StyleView",
            "description_width": ""
          }
        },
        "c9a6cb8b8f524d7cae6a258dfabf5bec": {
          "model_module": "@jupyter-widgets/base",
          "model_name": "LayoutModel",
          "model_module_version": "1.2.0",
          "state": {
            "_model_module": "@jupyter-widgets/base",
            "_model_module_version": "1.2.0",
            "_model_name": "LayoutModel",
            "_view_count": null,
            "_view_module": "@jupyter-widgets/base",
            "_view_module_version": "1.2.0",
            "_view_name": "LayoutView",
            "align_content": null,
            "align_items": null,
            "align_self": null,
            "border": null,
            "bottom": null,
            "display": null,
            "flex": null,
            "flex_flow": null,
            "grid_area": null,
            "grid_auto_columns": null,
            "grid_auto_flow": null,
            "grid_auto_rows": null,
            "grid_column": null,
            "grid_gap": null,
            "grid_row": null,
            "grid_template_areas": null,
            "grid_template_columns": null,
            "grid_template_rows": null,
            "height": null,
            "justify_content": null,
            "justify_items": null,
            "left": null,
            "margin": null,
            "max_height": null,
            "max_width": null,
            "min_height": null,
            "min_width": null,
            "object_fit": null,
            "object_position": null,
            "order": null,
            "overflow": null,
            "overflow_x": null,
            "overflow_y": null,
            "padding": null,
            "right": null,
            "top": null,
            "visibility": null,
            "width": null
          }
        },
        "69040c33b59846379de46a0cce4b0448": {
          "model_module": "@jupyter-widgets/controls",
          "model_name": "ProgressStyleModel",
          "model_module_version": "1.5.0",
          "state": {
            "_model_module": "@jupyter-widgets/controls",
            "_model_module_version": "1.5.0",
            "_model_name": "ProgressStyleModel",
            "_view_count": null,
            "_view_module": "@jupyter-widgets/base",
            "_view_module_version": "1.2.0",
            "_view_name": "StyleView",
            "bar_color": null,
            "description_width": ""
          }
        },
        "d7c6e4b9c8704051a6da4cde05e593da": {
          "model_module": "@jupyter-widgets/base",
          "model_name": "LayoutModel",
          "model_module_version": "1.2.0",
          "state": {
            "_model_module": "@jupyter-widgets/base",
            "_model_module_version": "1.2.0",
            "_model_name": "LayoutModel",
            "_view_count": null,
            "_view_module": "@jupyter-widgets/base",
            "_view_module_version": "1.2.0",
            "_view_name": "LayoutView",
            "align_content": null,
            "align_items": null,
            "align_self": null,
            "border": null,
            "bottom": null,
            "display": null,
            "flex": null,
            "flex_flow": null,
            "grid_area": null,
            "grid_auto_columns": null,
            "grid_auto_flow": null,
            "grid_auto_rows": null,
            "grid_column": null,
            "grid_gap": null,
            "grid_row": null,
            "grid_template_areas": null,
            "grid_template_columns": null,
            "grid_template_rows": null,
            "height": null,
            "justify_content": null,
            "justify_items": null,
            "left": null,
            "margin": null,
            "max_height": null,
            "max_width": null,
            "min_height": null,
            "min_width": null,
            "object_fit": null,
            "object_position": null,
            "order": null,
            "overflow": null,
            "overflow_x": null,
            "overflow_y": null,
            "padding": null,
            "right": null,
            "top": null,
            "visibility": null,
            "width": null
          }
        },
        "4c631e0011e64bc68c1d3cb53624a343": {
          "model_module": "@jupyter-widgets/controls",
          "model_name": "DescriptionStyleModel",
          "model_module_version": "1.5.0",
          "state": {
            "_model_module": "@jupyter-widgets/controls",
            "_model_module_version": "1.5.0",
            "_model_name": "DescriptionStyleModel",
            "_view_count": null,
            "_view_module": "@jupyter-widgets/base",
            "_view_module_version": "1.2.0",
            "_view_name": "StyleView",
            "description_width": ""
          }
        },
        "16edbb04cd7b4f219601049dd0dffaec": {
          "model_module": "@jupyter-widgets/controls",
          "model_name": "HBoxModel",
          "model_module_version": "1.5.0",
          "state": {
            "_dom_classes": [],
            "_model_module": "@jupyter-widgets/controls",
            "_model_module_version": "1.5.0",
            "_model_name": "HBoxModel",
            "_view_count": null,
            "_view_module": "@jupyter-widgets/controls",
            "_view_module_version": "1.5.0",
            "_view_name": "HBoxView",
            "box_style": "",
            "children": [
              "IPY_MODEL_83084c84986a4883aaa9b92daa8e99ad",
              "IPY_MODEL_746fb630b7254a2f9cbd125300ec3ab8",
              "IPY_MODEL_b4eb64bf76d5415f9b3f62d3befd6009"
            ],
            "layout": "IPY_MODEL_f64822e7f5424d868901d4d90ca29b6d"
          }
        },
        "83084c84986a4883aaa9b92daa8e99ad": {
          "model_module": "@jupyter-widgets/controls",
          "model_name": "HTMLModel",
          "model_module_version": "1.5.0",
          "state": {
            "_dom_classes": [],
            "_model_module": "@jupyter-widgets/controls",
            "_model_module_version": "1.5.0",
            "_model_name": "HTMLModel",
            "_view_count": null,
            "_view_module": "@jupyter-widgets/controls",
            "_view_module_version": "1.5.0",
            "_view_name": "HTMLView",
            "description": "",
            "description_tooltip": null,
            "layout": "IPY_MODEL_72f22d989142428689c4a5b878d303b6",
            "placeholder": "​",
            "style": "IPY_MODEL_f5ac7b13e6eb486fa55c4ed60e53940f",
            "value": "vocab.txt: 100%"
          }
        },
        "746fb630b7254a2f9cbd125300ec3ab8": {
          "model_module": "@jupyter-widgets/controls",
          "model_name": "FloatProgressModel",
          "model_module_version": "1.5.0",
          "state": {
            "_dom_classes": [],
            "_model_module": "@jupyter-widgets/controls",
            "_model_module_version": "1.5.0",
            "_model_name": "FloatProgressModel",
            "_view_count": null,
            "_view_module": "@jupyter-widgets/controls",
            "_view_module_version": "1.5.0",
            "_view_name": "ProgressView",
            "bar_style": "success",
            "description": "",
            "description_tooltip": null,
            "layout": "IPY_MODEL_26222aa30c234cdfaaf22b517058e7de",
            "max": 871891,
            "min": 0,
            "orientation": "horizontal",
            "style": "IPY_MODEL_e9fb3fc4488c42e6af05ec000e20b936",
            "value": 871891
          }
        },
        "b4eb64bf76d5415f9b3f62d3befd6009": {
          "model_module": "@jupyter-widgets/controls",
          "model_name": "HTMLModel",
          "model_module_version": "1.5.0",
          "state": {
            "_dom_classes": [],
            "_model_module": "@jupyter-widgets/controls",
            "_model_module_version": "1.5.0",
            "_model_name": "HTMLModel",
            "_view_count": null,
            "_view_module": "@jupyter-widgets/controls",
            "_view_module_version": "1.5.0",
            "_view_name": "HTMLView",
            "description": "",
            "description_tooltip": null,
            "layout": "IPY_MODEL_cbb0040d6fe641acb0106128752bce36",
            "placeholder": "​",
            "style": "IPY_MODEL_d1536c6872824b6a82960db6d28a468e",
            "value": " 872k/872k [00:00&lt;00:00, 13.0MB/s]"
          }
        },
        "f64822e7f5424d868901d4d90ca29b6d": {
          "model_module": "@jupyter-widgets/base",
          "model_name": "LayoutModel",
          "model_module_version": "1.2.0",
          "state": {
            "_model_module": "@jupyter-widgets/base",
            "_model_module_version": "1.2.0",
            "_model_name": "LayoutModel",
            "_view_count": null,
            "_view_module": "@jupyter-widgets/base",
            "_view_module_version": "1.2.0",
            "_view_name": "LayoutView",
            "align_content": null,
            "align_items": null,
            "align_self": null,
            "border": null,
            "bottom": null,
            "display": null,
            "flex": null,
            "flex_flow": null,
            "grid_area": null,
            "grid_auto_columns": null,
            "grid_auto_flow": null,
            "grid_auto_rows": null,
            "grid_column": null,
            "grid_gap": null,
            "grid_row": null,
            "grid_template_areas": null,
            "grid_template_columns": null,
            "grid_template_rows": null,
            "height": null,
            "justify_content": null,
            "justify_items": null,
            "left": null,
            "margin": null,
            "max_height": null,
            "max_width": null,
            "min_height": null,
            "min_width": null,
            "object_fit": null,
            "object_position": null,
            "order": null,
            "overflow": null,
            "overflow_x": null,
            "overflow_y": null,
            "padding": null,
            "right": null,
            "top": null,
            "visibility": null,
            "width": null
          }
        },
        "72f22d989142428689c4a5b878d303b6": {
          "model_module": "@jupyter-widgets/base",
          "model_name": "LayoutModel",
          "model_module_version": "1.2.0",
          "state": {
            "_model_module": "@jupyter-widgets/base",
            "_model_module_version": "1.2.0",
            "_model_name": "LayoutModel",
            "_view_count": null,
            "_view_module": "@jupyter-widgets/base",
            "_view_module_version": "1.2.0",
            "_view_name": "LayoutView",
            "align_content": null,
            "align_items": null,
            "align_self": null,
            "border": null,
            "bottom": null,
            "display": null,
            "flex": null,
            "flex_flow": null,
            "grid_area": null,
            "grid_auto_columns": null,
            "grid_auto_flow": null,
            "grid_auto_rows": null,
            "grid_column": null,
            "grid_gap": null,
            "grid_row": null,
            "grid_template_areas": null,
            "grid_template_columns": null,
            "grid_template_rows": null,
            "height": null,
            "justify_content": null,
            "justify_items": null,
            "left": null,
            "margin": null,
            "max_height": null,
            "max_width": null,
            "min_height": null,
            "min_width": null,
            "object_fit": null,
            "object_position": null,
            "order": null,
            "overflow": null,
            "overflow_x": null,
            "overflow_y": null,
            "padding": null,
            "right": null,
            "top": null,
            "visibility": null,
            "width": null
          }
        },
        "f5ac7b13e6eb486fa55c4ed60e53940f": {
          "model_module": "@jupyter-widgets/controls",
          "model_name": "DescriptionStyleModel",
          "model_module_version": "1.5.0",
          "state": {
            "_model_module": "@jupyter-widgets/controls",
            "_model_module_version": "1.5.0",
            "_model_name": "DescriptionStyleModel",
            "_view_count": null,
            "_view_module": "@jupyter-widgets/base",
            "_view_module_version": "1.2.0",
            "_view_name": "StyleView",
            "description_width": ""
          }
        },
        "26222aa30c234cdfaaf22b517058e7de": {
          "model_module": "@jupyter-widgets/base",
          "model_name": "LayoutModel",
          "model_module_version": "1.2.0",
          "state": {
            "_model_module": "@jupyter-widgets/base",
            "_model_module_version": "1.2.0",
            "_model_name": "LayoutModel",
            "_view_count": null,
            "_view_module": "@jupyter-widgets/base",
            "_view_module_version": "1.2.0",
            "_view_name": "LayoutView",
            "align_content": null,
            "align_items": null,
            "align_self": null,
            "border": null,
            "bottom": null,
            "display": null,
            "flex": null,
            "flex_flow": null,
            "grid_area": null,
            "grid_auto_columns": null,
            "grid_auto_flow": null,
            "grid_auto_rows": null,
            "grid_column": null,
            "grid_gap": null,
            "grid_row": null,
            "grid_template_areas": null,
            "grid_template_columns": null,
            "grid_template_rows": null,
            "height": null,
            "justify_content": null,
            "justify_items": null,
            "left": null,
            "margin": null,
            "max_height": null,
            "max_width": null,
            "min_height": null,
            "min_width": null,
            "object_fit": null,
            "object_position": null,
            "order": null,
            "overflow": null,
            "overflow_x": null,
            "overflow_y": null,
            "padding": null,
            "right": null,
            "top": null,
            "visibility": null,
            "width": null
          }
        },
        "e9fb3fc4488c42e6af05ec000e20b936": {
          "model_module": "@jupyter-widgets/controls",
          "model_name": "ProgressStyleModel",
          "model_module_version": "1.5.0",
          "state": {
            "_model_module": "@jupyter-widgets/controls",
            "_model_module_version": "1.5.0",
            "_model_name": "ProgressStyleModel",
            "_view_count": null,
            "_view_module": "@jupyter-widgets/base",
            "_view_module_version": "1.2.0",
            "_view_name": "StyleView",
            "bar_color": null,
            "description_width": ""
          }
        },
        "cbb0040d6fe641acb0106128752bce36": {
          "model_module": "@jupyter-widgets/base",
          "model_name": "LayoutModel",
          "model_module_version": "1.2.0",
          "state": {
            "_model_module": "@jupyter-widgets/base",
            "_model_module_version": "1.2.0",
            "_model_name": "LayoutModel",
            "_view_count": null,
            "_view_module": "@jupyter-widgets/base",
            "_view_module_version": "1.2.0",
            "_view_name": "LayoutView",
            "align_content": null,
            "align_items": null,
            "align_self": null,
            "border": null,
            "bottom": null,
            "display": null,
            "flex": null,
            "flex_flow": null,
            "grid_area": null,
            "grid_auto_columns": null,
            "grid_auto_flow": null,
            "grid_auto_rows": null,
            "grid_column": null,
            "grid_gap": null,
            "grid_row": null,
            "grid_template_areas": null,
            "grid_template_columns": null,
            "grid_template_rows": null,
            "height": null,
            "justify_content": null,
            "justify_items": null,
            "left": null,
            "margin": null,
            "max_height": null,
            "max_width": null,
            "min_height": null,
            "min_width": null,
            "object_fit": null,
            "object_position": null,
            "order": null,
            "overflow": null,
            "overflow_x": null,
            "overflow_y": null,
            "padding": null,
            "right": null,
            "top": null,
            "visibility": null,
            "width": null
          }
        },
        "d1536c6872824b6a82960db6d28a468e": {
          "model_module": "@jupyter-widgets/controls",
          "model_name": "DescriptionStyleModel",
          "model_module_version": "1.5.0",
          "state": {
            "_model_module": "@jupyter-widgets/controls",
            "_model_module_version": "1.5.0",
            "_model_name": "DescriptionStyleModel",
            "_view_count": null,
            "_view_module": "@jupyter-widgets/base",
            "_view_module_version": "1.2.0",
            "_view_name": "StyleView",
            "description_width": ""
          }
        },
        "415788bffbcc49ee8993d4fe0c972a09": {
          "model_module": "@jupyter-widgets/controls",
          "model_name": "HBoxModel",
          "model_module_version": "1.5.0",
          "state": {
            "_dom_classes": [],
            "_model_module": "@jupyter-widgets/controls",
            "_model_module_version": "1.5.0",
            "_model_name": "HBoxModel",
            "_view_count": null,
            "_view_module": "@jupyter-widgets/controls",
            "_view_module_version": "1.5.0",
            "_view_name": "HBoxView",
            "box_style": "",
            "children": [
              "IPY_MODEL_d02f716614f247819f67277fee96bb8f",
              "IPY_MODEL_038cfaf2541c479c96468bb6d0668f37",
              "IPY_MODEL_25064ff932084a35a6c2388f3e3503de"
            ],
            "layout": "IPY_MODEL_06bd15d8e606421b8179505ded4c5d11"
          }
        },
        "d02f716614f247819f67277fee96bb8f": {
          "model_module": "@jupyter-widgets/controls",
          "model_name": "HTMLModel",
          "model_module_version": "1.5.0",
          "state": {
            "_dom_classes": [],
            "_model_module": "@jupyter-widgets/controls",
            "_model_module_version": "1.5.0",
            "_model_name": "HTMLModel",
            "_view_count": null,
            "_view_module": "@jupyter-widgets/controls",
            "_view_module_version": "1.5.0",
            "_view_name": "HTMLView",
            "description": "",
            "description_tooltip": null,
            "layout": "IPY_MODEL_15fc84f7a41e44f1890e82b13b41107d",
            "placeholder": "​",
            "style": "IPY_MODEL_feef9e9957a44da58daaac345c7535cf",
            "value": "special_tokens_map.json: 100%"
          }
        },
        "038cfaf2541c479c96468bb6d0668f37": {
          "model_module": "@jupyter-widgets/controls",
          "model_name": "FloatProgressModel",
          "model_module_version": "1.5.0",
          "state": {
            "_dom_classes": [],
            "_model_module": "@jupyter-widgets/controls",
            "_model_module_version": "1.5.0",
            "_model_name": "FloatProgressModel",
            "_view_count": null,
            "_view_module": "@jupyter-widgets/controls",
            "_view_module_version": "1.5.0",
            "_view_name": "ProgressView",
            "bar_style": "success",
            "description": "",
            "description_tooltip": null,
            "layout": "IPY_MODEL_b083096717b74cd18c44ce956dfd4b07",
            "max": 112,
            "min": 0,
            "orientation": "horizontal",
            "style": "IPY_MODEL_7b8fb47b3a06476bb94634621fb19ed3",
            "value": 112
          }
        },
        "25064ff932084a35a6c2388f3e3503de": {
          "model_module": "@jupyter-widgets/controls",
          "model_name": "HTMLModel",
          "model_module_version": "1.5.0",
          "state": {
            "_dom_classes": [],
            "_model_module": "@jupyter-widgets/controls",
            "_model_module_version": "1.5.0",
            "_model_name": "HTMLModel",
            "_view_count": null,
            "_view_module": "@jupyter-widgets/controls",
            "_view_module_version": "1.5.0",
            "_view_name": "HTMLView",
            "description": "",
            "description_tooltip": null,
            "layout": "IPY_MODEL_9de6fe13cac04544b8bb6482b2326baf",
            "placeholder": "​",
            "style": "IPY_MODEL_bd845943b6d642dda56851c78df7eb43",
            "value": " 112/112 [00:00&lt;00:00, 7.46kB/s]"
          }
        },
        "06bd15d8e606421b8179505ded4c5d11": {
          "model_module": "@jupyter-widgets/base",
          "model_name": "LayoutModel",
          "model_module_version": "1.2.0",
          "state": {
            "_model_module": "@jupyter-widgets/base",
            "_model_module_version": "1.2.0",
            "_model_name": "LayoutModel",
            "_view_count": null,
            "_view_module": "@jupyter-widgets/base",
            "_view_module_version": "1.2.0",
            "_view_name": "LayoutView",
            "align_content": null,
            "align_items": null,
            "align_self": null,
            "border": null,
            "bottom": null,
            "display": null,
            "flex": null,
            "flex_flow": null,
            "grid_area": null,
            "grid_auto_columns": null,
            "grid_auto_flow": null,
            "grid_auto_rows": null,
            "grid_column": null,
            "grid_gap": null,
            "grid_row": null,
            "grid_template_areas": null,
            "grid_template_columns": null,
            "grid_template_rows": null,
            "height": null,
            "justify_content": null,
            "justify_items": null,
            "left": null,
            "margin": null,
            "max_height": null,
            "max_width": null,
            "min_height": null,
            "min_width": null,
            "object_fit": null,
            "object_position": null,
            "order": null,
            "overflow": null,
            "overflow_x": null,
            "overflow_y": null,
            "padding": null,
            "right": null,
            "top": null,
            "visibility": null,
            "width": null
          }
        },
        "15fc84f7a41e44f1890e82b13b41107d": {
          "model_module": "@jupyter-widgets/base",
          "model_name": "LayoutModel",
          "model_module_version": "1.2.0",
          "state": {
            "_model_module": "@jupyter-widgets/base",
            "_model_module_version": "1.2.0",
            "_model_name": "LayoutModel",
            "_view_count": null,
            "_view_module": "@jupyter-widgets/base",
            "_view_module_version": "1.2.0",
            "_view_name": "LayoutView",
            "align_content": null,
            "align_items": null,
            "align_self": null,
            "border": null,
            "bottom": null,
            "display": null,
            "flex": null,
            "flex_flow": null,
            "grid_area": null,
            "grid_auto_columns": null,
            "grid_auto_flow": null,
            "grid_auto_rows": null,
            "grid_column": null,
            "grid_gap": null,
            "grid_row": null,
            "grid_template_areas": null,
            "grid_template_columns": null,
            "grid_template_rows": null,
            "height": null,
            "justify_content": null,
            "justify_items": null,
            "left": null,
            "margin": null,
            "max_height": null,
            "max_width": null,
            "min_height": null,
            "min_width": null,
            "object_fit": null,
            "object_position": null,
            "order": null,
            "overflow": null,
            "overflow_x": null,
            "overflow_y": null,
            "padding": null,
            "right": null,
            "top": null,
            "visibility": null,
            "width": null
          }
        },
        "feef9e9957a44da58daaac345c7535cf": {
          "model_module": "@jupyter-widgets/controls",
          "model_name": "DescriptionStyleModel",
          "model_module_version": "1.5.0",
          "state": {
            "_model_module": "@jupyter-widgets/controls",
            "_model_module_version": "1.5.0",
            "_model_name": "DescriptionStyleModel",
            "_view_count": null,
            "_view_module": "@jupyter-widgets/base",
            "_view_module_version": "1.2.0",
            "_view_name": "StyleView",
            "description_width": ""
          }
        },
        "b083096717b74cd18c44ce956dfd4b07": {
          "model_module": "@jupyter-widgets/base",
          "model_name": "LayoutModel",
          "model_module_version": "1.2.0",
          "state": {
            "_model_module": "@jupyter-widgets/base",
            "_model_module_version": "1.2.0",
            "_model_name": "LayoutModel",
            "_view_count": null,
            "_view_module": "@jupyter-widgets/base",
            "_view_module_version": "1.2.0",
            "_view_name": "LayoutView",
            "align_content": null,
            "align_items": null,
            "align_self": null,
            "border": null,
            "bottom": null,
            "display": null,
            "flex": null,
            "flex_flow": null,
            "grid_area": null,
            "grid_auto_columns": null,
            "grid_auto_flow": null,
            "grid_auto_rows": null,
            "grid_column": null,
            "grid_gap": null,
            "grid_row": null,
            "grid_template_areas": null,
            "grid_template_columns": null,
            "grid_template_rows": null,
            "height": null,
            "justify_content": null,
            "justify_items": null,
            "left": null,
            "margin": null,
            "max_height": null,
            "max_width": null,
            "min_height": null,
            "min_width": null,
            "object_fit": null,
            "object_position": null,
            "order": null,
            "overflow": null,
            "overflow_x": null,
            "overflow_y": null,
            "padding": null,
            "right": null,
            "top": null,
            "visibility": null,
            "width": null
          }
        },
        "7b8fb47b3a06476bb94634621fb19ed3": {
          "model_module": "@jupyter-widgets/controls",
          "model_name": "ProgressStyleModel",
          "model_module_version": "1.5.0",
          "state": {
            "_model_module": "@jupyter-widgets/controls",
            "_model_module_version": "1.5.0",
            "_model_name": "ProgressStyleModel",
            "_view_count": null,
            "_view_module": "@jupyter-widgets/base",
            "_view_module_version": "1.2.0",
            "_view_name": "StyleView",
            "bar_color": null,
            "description_width": ""
          }
        },
        "9de6fe13cac04544b8bb6482b2326baf": {
          "model_module": "@jupyter-widgets/base",
          "model_name": "LayoutModel",
          "model_module_version": "1.2.0",
          "state": {
            "_model_module": "@jupyter-widgets/base",
            "_model_module_version": "1.2.0",
            "_model_name": "LayoutModel",
            "_view_count": null,
            "_view_module": "@jupyter-widgets/base",
            "_view_module_version": "1.2.0",
            "_view_name": "LayoutView",
            "align_content": null,
            "align_items": null,
            "align_self": null,
            "border": null,
            "bottom": null,
            "display": null,
            "flex": null,
            "flex_flow": null,
            "grid_area": null,
            "grid_auto_columns": null,
            "grid_auto_flow": null,
            "grid_auto_rows": null,
            "grid_column": null,
            "grid_gap": null,
            "grid_row": null,
            "grid_template_areas": null,
            "grid_template_columns": null,
            "grid_template_rows": null,
            "height": null,
            "justify_content": null,
            "justify_items": null,
            "left": null,
            "margin": null,
            "max_height": null,
            "max_width": null,
            "min_height": null,
            "min_width": null,
            "object_fit": null,
            "object_position": null,
            "order": null,
            "overflow": null,
            "overflow_x": null,
            "overflow_y": null,
            "padding": null,
            "right": null,
            "top": null,
            "visibility": null,
            "width": null
          }
        },
        "bd845943b6d642dda56851c78df7eb43": {
          "model_module": "@jupyter-widgets/controls",
          "model_name": "DescriptionStyleModel",
          "model_module_version": "1.5.0",
          "state": {
            "_model_module": "@jupyter-widgets/controls",
            "_model_module_version": "1.5.0",
            "_model_name": "DescriptionStyleModel",
            "_view_count": null,
            "_view_module": "@jupyter-widgets/base",
            "_view_module_version": "1.2.0",
            "_view_name": "StyleView",
            "description_width": ""
          }
        },
        "d395bb11520741e0bbe732d28868f91a": {
          "model_module": "@jupyter-widgets/controls",
          "model_name": "HBoxModel",
          "model_module_version": "1.5.0",
          "state": {
            "_dom_classes": [],
            "_model_module": "@jupyter-widgets/controls",
            "_model_module_version": "1.5.0",
            "_model_name": "HBoxModel",
            "_view_count": null,
            "_view_module": "@jupyter-widgets/controls",
            "_view_module_version": "1.5.0",
            "_view_name": "HBoxView",
            "box_style": "",
            "children": [
              "IPY_MODEL_dc09e866bed848e690d10f6e6fa2f9ea",
              "IPY_MODEL_35d68f8d8c8745d798a51a7387ee1579",
              "IPY_MODEL_b01b4fce9c614cf393b59398710c31ec"
            ],
            "layout": "IPY_MODEL_e130b55ab593418985cbf347b4a4ec4e"
          }
        },
        "dc09e866bed848e690d10f6e6fa2f9ea": {
          "model_module": "@jupyter-widgets/controls",
          "model_name": "HTMLModel",
          "model_module_version": "1.5.0",
          "state": {
            "_dom_classes": [],
            "_model_module": "@jupyter-widgets/controls",
            "_model_module_version": "1.5.0",
            "_model_name": "HTMLModel",
            "_view_count": null,
            "_view_module": "@jupyter-widgets/controls",
            "_view_module_version": "1.5.0",
            "_view_name": "HTMLView",
            "description": "",
            "description_tooltip": null,
            "layout": "IPY_MODEL_5b399667170549d5b95604f6179318c1",
            "placeholder": "​",
            "style": "IPY_MODEL_d89ea3bbf7194b4cafffe4f815fd33d9",
            "value": "pytorch_model.bin: 100%"
          }
        },
        "35d68f8d8c8745d798a51a7387ee1579": {
          "model_module": "@jupyter-widgets/controls",
          "model_name": "FloatProgressModel",
          "model_module_version": "1.5.0",
          "state": {
            "_dom_classes": [],
            "_model_module": "@jupyter-widgets/controls",
            "_model_module_version": "1.5.0",
            "_model_name": "FloatProgressModel",
            "_view_count": null,
            "_view_module": "@jupyter-widgets/controls",
            "_view_module_version": "1.5.0",
            "_view_name": "ProgressView",
            "bar_style": "success",
            "description": "",
            "description_tooltip": null,
            "layout": "IPY_MODEL_39ec149e411d493e8dafe715508b120e",
            "max": 669491321,
            "min": 0,
            "orientation": "horizontal",
            "style": "IPY_MODEL_3683b7a78dd54b778d5a9e54344cc303",
            "value": 669491321
          }
        },
        "b01b4fce9c614cf393b59398710c31ec": {
          "model_module": "@jupyter-widgets/controls",
          "model_name": "HTMLModel",
          "model_module_version": "1.5.0",
          "state": {
            "_dom_classes": [],
            "_model_module": "@jupyter-widgets/controls",
            "_model_module_version": "1.5.0",
            "_model_name": "HTMLModel",
            "_view_count": null,
            "_view_module": "@jupyter-widgets/controls",
            "_view_module_version": "1.5.0",
            "_view_name": "HTMLView",
            "description": "",
            "description_tooltip": null,
            "layout": "IPY_MODEL_5e11ae8a85bd44c798bf78f17ab8c775",
            "placeholder": "​",
            "style": "IPY_MODEL_b2a18f8abecc454797ec4284aa954cdc",
            "value": " 669M/669M [00:04&lt;00:00, 182MB/s]"
          }
        },
        "e130b55ab593418985cbf347b4a4ec4e": {
          "model_module": "@jupyter-widgets/base",
          "model_name": "LayoutModel",
          "model_module_version": "1.2.0",
          "state": {
            "_model_module": "@jupyter-widgets/base",
            "_model_module_version": "1.2.0",
            "_model_name": "LayoutModel",
            "_view_count": null,
            "_view_module": "@jupyter-widgets/base",
            "_view_module_version": "1.2.0",
            "_view_name": "LayoutView",
            "align_content": null,
            "align_items": null,
            "align_self": null,
            "border": null,
            "bottom": null,
            "display": null,
            "flex": null,
            "flex_flow": null,
            "grid_area": null,
            "grid_auto_columns": null,
            "grid_auto_flow": null,
            "grid_auto_rows": null,
            "grid_column": null,
            "grid_gap": null,
            "grid_row": null,
            "grid_template_areas": null,
            "grid_template_columns": null,
            "grid_template_rows": null,
            "height": null,
            "justify_content": null,
            "justify_items": null,
            "left": null,
            "margin": null,
            "max_height": null,
            "max_width": null,
            "min_height": null,
            "min_width": null,
            "object_fit": null,
            "object_position": null,
            "order": null,
            "overflow": null,
            "overflow_x": null,
            "overflow_y": null,
            "padding": null,
            "right": null,
            "top": null,
            "visibility": null,
            "width": null
          }
        },
        "5b399667170549d5b95604f6179318c1": {
          "model_module": "@jupyter-widgets/base",
          "model_name": "LayoutModel",
          "model_module_version": "1.2.0",
          "state": {
            "_model_module": "@jupyter-widgets/base",
            "_model_module_version": "1.2.0",
            "_model_name": "LayoutModel",
            "_view_count": null,
            "_view_module": "@jupyter-widgets/base",
            "_view_module_version": "1.2.0",
            "_view_name": "LayoutView",
            "align_content": null,
            "align_items": null,
            "align_self": null,
            "border": null,
            "bottom": null,
            "display": null,
            "flex": null,
            "flex_flow": null,
            "grid_area": null,
            "grid_auto_columns": null,
            "grid_auto_flow": null,
            "grid_auto_rows": null,
            "grid_column": null,
            "grid_gap": null,
            "grid_row": null,
            "grid_template_areas": null,
            "grid_template_columns": null,
            "grid_template_rows": null,
            "height": null,
            "justify_content": null,
            "justify_items": null,
            "left": null,
            "margin": null,
            "max_height": null,
            "max_width": null,
            "min_height": null,
            "min_width": null,
            "object_fit": null,
            "object_position": null,
            "order": null,
            "overflow": null,
            "overflow_x": null,
            "overflow_y": null,
            "padding": null,
            "right": null,
            "top": null,
            "visibility": null,
            "width": null
          }
        },
        "d89ea3bbf7194b4cafffe4f815fd33d9": {
          "model_module": "@jupyter-widgets/controls",
          "model_name": "DescriptionStyleModel",
          "model_module_version": "1.5.0",
          "state": {
            "_model_module": "@jupyter-widgets/controls",
            "_model_module_version": "1.5.0",
            "_model_name": "DescriptionStyleModel",
            "_view_count": null,
            "_view_module": "@jupyter-widgets/base",
            "_view_module_version": "1.2.0",
            "_view_name": "StyleView",
            "description_width": ""
          }
        },
        "39ec149e411d493e8dafe715508b120e": {
          "model_module": "@jupyter-widgets/base",
          "model_name": "LayoutModel",
          "model_module_version": "1.2.0",
          "state": {
            "_model_module": "@jupyter-widgets/base",
            "_model_module_version": "1.2.0",
            "_model_name": "LayoutModel",
            "_view_count": null,
            "_view_module": "@jupyter-widgets/base",
            "_view_module_version": "1.2.0",
            "_view_name": "LayoutView",
            "align_content": null,
            "align_items": null,
            "align_self": null,
            "border": null,
            "bottom": null,
            "display": null,
            "flex": null,
            "flex_flow": null,
            "grid_area": null,
            "grid_auto_columns": null,
            "grid_auto_flow": null,
            "grid_auto_rows": null,
            "grid_column": null,
            "grid_gap": null,
            "grid_row": null,
            "grid_template_areas": null,
            "grid_template_columns": null,
            "grid_template_rows": null,
            "height": null,
            "justify_content": null,
            "justify_items": null,
            "left": null,
            "margin": null,
            "max_height": null,
            "max_width": null,
            "min_height": null,
            "min_width": null,
            "object_fit": null,
            "object_position": null,
            "order": null,
            "overflow": null,
            "overflow_x": null,
            "overflow_y": null,
            "padding": null,
            "right": null,
            "top": null,
            "visibility": null,
            "width": null
          }
        },
        "3683b7a78dd54b778d5a9e54344cc303": {
          "model_module": "@jupyter-widgets/controls",
          "model_name": "ProgressStyleModel",
          "model_module_version": "1.5.0",
          "state": {
            "_model_module": "@jupyter-widgets/controls",
            "_model_module_version": "1.5.0",
            "_model_name": "ProgressStyleModel",
            "_view_count": null,
            "_view_module": "@jupyter-widgets/base",
            "_view_module_version": "1.2.0",
            "_view_name": "StyleView",
            "bar_color": null,
            "description_width": ""
          }
        },
        "5e11ae8a85bd44c798bf78f17ab8c775": {
          "model_module": "@jupyter-widgets/base",
          "model_name": "LayoutModel",
          "model_module_version": "1.2.0",
          "state": {
            "_model_module": "@jupyter-widgets/base",
            "_model_module_version": "1.2.0",
            "_model_name": "LayoutModel",
            "_view_count": null,
            "_view_module": "@jupyter-widgets/base",
            "_view_module_version": "1.2.0",
            "_view_name": "LayoutView",
            "align_content": null,
            "align_items": null,
            "align_self": null,
            "border": null,
            "bottom": null,
            "display": null,
            "flex": null,
            "flex_flow": null,
            "grid_area": null,
            "grid_auto_columns": null,
            "grid_auto_flow": null,
            "grid_auto_rows": null,
            "grid_column": null,
            "grid_gap": null,
            "grid_row": null,
            "grid_template_areas": null,
            "grid_template_columns": null,
            "grid_template_rows": null,
            "height": null,
            "justify_content": null,
            "justify_items": null,
            "left": null,
            "margin": null,
            "max_height": null,
            "max_width": null,
            "min_height": null,
            "min_width": null,
            "object_fit": null,
            "object_position": null,
            "order": null,
            "overflow": null,
            "overflow_x": null,
            "overflow_y": null,
            "padding": null,
            "right": null,
            "top": null,
            "visibility": null,
            "width": null
          }
        },
        "b2a18f8abecc454797ec4284aa954cdc": {
          "model_module": "@jupyter-widgets/controls",
          "model_name": "DescriptionStyleModel",
          "model_module_version": "1.5.0",
          "state": {
            "_model_module": "@jupyter-widgets/controls",
            "_model_module_version": "1.5.0",
            "_model_name": "DescriptionStyleModel",
            "_view_count": null,
            "_view_module": "@jupyter-widgets/base",
            "_view_module_version": "1.2.0",
            "_view_name": "StyleView",
            "description_width": ""
          }
        }
      }
    }
  },
  "cells": [
    {
      "cell_type": "markdown",
      "source": [
        "# YELP REVIEW Sentiment Analysis with BERT\n",
        "\n",
        "We will fine tune the BERT model to be able to predict yelp reviews"
      ],
      "metadata": {
        "id": "sMBV5epKBy0V"
      }
    },
    {
      "cell_type": "markdown",
      "source": [
        "![yelp.png](data:image/png;base64,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)"
      ],
      "metadata": {
        "id": "Px4GgZuAC-aJ"
      }
    },
    {
      "cell_type": "markdown",
      "source": [
        "## Install and import dependencies"
      ],
      "metadata": {
        "id": "aFYX3Ac-DGua"
      }
    },
    {
      "cell_type": "code",
      "source": [
        "!pip install transformers requests beautifulsoup4 pandas numpy --quiet"
      ],
      "metadata": {
        "id": "uk8HUhSpCc5C"
      },
      "execution_count": 14,
      "outputs": []
    },
    {
      "cell_type": "code",
      "source": [
        "# AutoTokenizer - Encode words to numbers\n",
        "# AutoModelForSequenceClassification - Load the nlp model\n",
        "from transformers import AutoTokenizer, AutoModelForSequenceClassification\n",
        "import torch\n",
        "import requests\n",
        "from bs4 import BeautifulSoup\n",
        "import re"
      ],
      "metadata": {
        "id": "Kgc3v-9ZDR5X"
      },
      "execution_count": 2,
      "outputs": []
    },
    {
      "cell_type": "markdown",
      "source": [
        "## Insantiate Model"
      ],
      "metadata": {
        "id": "mP5E7ZA9EmKe"
      }
    },
    {
      "cell_type": "code",
      "source": [
        "tokenizer = AutoTokenizer.from_pretrained('nlptown/bert-base-multilingual-uncased-sentiment')\n",
        "\n",
        "model = AutoModelForSequenceClassification.from_pretrained('nlptown/bert-base-multilingual-uncased-sentiment')"
      ],
      "metadata": {
        "colab": {
          "base_uri": "https://localhost:8080/",
          "height": 304,
          "referenced_widgets": [
            "53228d205a21446aac6d1e048c143b45",
            "a3aebfe2db694ef8bc454bbd85cd8b12",
            "4858860678a84dfc8722026ea7e04727",
            "29004c2b28254eda86c642fc9cafc8c7",
            "2395f36864ad48148daa352d5f6937ac",
            "21a77440c65042119b6fe8e9b0e7baff",
            "b9983846ab2f4b4a8b91c0bad51786db",
            "98e87758ac3b4d6fb91c2f4646c65d63",
            "b6680cd8f70945408da54f89a5acbf53",
            "e20d2a94481a4f9aa6e814f494701d5d",
            "61878534413a44b28d5f943013dd5917",
            "7a60eebe71f5496bae680535dcc697ec",
            "093ec69c849347878c2123376ad446cb",
            "48dc1f97b3054233917ff6f786bff0ba",
            "115f112a49e64aa59568b4e8849b1a1e",
            "10261dc6430b406fb3a7e963c4e88eff",
            "27270dd1ce5e4c8aa2907954fbcabd2f",
            "08f255d9c06c4ae9a695c8a660c7d6a5",
            "c9a6cb8b8f524d7cae6a258dfabf5bec",
            "69040c33b59846379de46a0cce4b0448",
            "d7c6e4b9c8704051a6da4cde05e593da",
            "4c631e0011e64bc68c1d3cb53624a343",
            "16edbb04cd7b4f219601049dd0dffaec",
            "83084c84986a4883aaa9b92daa8e99ad",
            "746fb630b7254a2f9cbd125300ec3ab8",
            "b4eb64bf76d5415f9b3f62d3befd6009",
            "f64822e7f5424d868901d4d90ca29b6d",
            "72f22d989142428689c4a5b878d303b6",
            "f5ac7b13e6eb486fa55c4ed60e53940f",
            "26222aa30c234cdfaaf22b517058e7de",
            "e9fb3fc4488c42e6af05ec000e20b936",
            "cbb0040d6fe641acb0106128752bce36",
            "d1536c6872824b6a82960db6d28a468e",
            "415788bffbcc49ee8993d4fe0c972a09",
            "d02f716614f247819f67277fee96bb8f",
            "038cfaf2541c479c96468bb6d0668f37",
            "25064ff932084a35a6c2388f3e3503de",
            "06bd15d8e606421b8179505ded4c5d11",
            "15fc84f7a41e44f1890e82b13b41107d",
            "feef9e9957a44da58daaac345c7535cf",
            "b083096717b74cd18c44ce956dfd4b07",
            "7b8fb47b3a06476bb94634621fb19ed3",
            "9de6fe13cac04544b8bb6482b2326baf",
            "bd845943b6d642dda56851c78df7eb43",
            "d395bb11520741e0bbe732d28868f91a",
            "dc09e866bed848e690d10f6e6fa2f9ea",
            "35d68f8d8c8745d798a51a7387ee1579",
            "b01b4fce9c614cf393b59398710c31ec",
            "e130b55ab593418985cbf347b4a4ec4e",
            "5b399667170549d5b95604f6179318c1",
            "d89ea3bbf7194b4cafffe4f815fd33d9",
            "39ec149e411d493e8dafe715508b120e",
            "3683b7a78dd54b778d5a9e54344cc303",
            "5e11ae8a85bd44c798bf78f17ab8c775",
            "b2a18f8abecc454797ec4284aa954cdc"
          ]
        },
        "id": "sz-J3y1rDVHe",
        "outputId": "cf62e2e6-bf26-4be2-ef16-4a14f0747e76"
      },
      "execution_count": 21,
      "outputs": [
        {
          "output_type": "stream",
          "name": "stderr",
          "text": [
            "/usr/local/lib/python3.10/dist-packages/huggingface_hub/utils/_token.py:72: UserWarning: \n",
            "The secret `HF_TOKEN` does not exist in your Colab secrets.\n",
            "To authenticate with the Hugging Face Hub, create a token in your settings tab (https://huggingface.co/settings/tokens), set it as secret in your Google Colab and restart your session.\n",
            "You will be able to reuse this secret in all of your notebooks.\n",
            "Please note that authentication is recommended but still optional to access public models or datasets.\n",
            "  warnings.warn(\n"
          ]
        },
        {
          "output_type": "display_data",
          "data": {
            "text/plain": [
              "tokenizer_config.json:   0%|          | 0.00/39.0 [00:00<?, ?B/s]"
            ],
            "application/vnd.jupyter.widget-view+json": {
              "version_major": 2,
              "version_minor": 0,
              "model_id": "53228d205a21446aac6d1e048c143b45"
            }
          },
          "metadata": {}
        },
        {
          "output_type": "display_data",
          "data": {
            "text/plain": [
              "config.json:   0%|          | 0.00/953 [00:00<?, ?B/s]"
            ],
            "application/vnd.jupyter.widget-view+json": {
              "version_major": 2,
              "version_minor": 0,
              "model_id": "7a60eebe71f5496bae680535dcc697ec"
            }
          },
          "metadata": {}
        },
        {
          "output_type": "display_data",
          "data": {
            "text/plain": [
              "vocab.txt:   0%|          | 0.00/872k [00:00<?, ?B/s]"
            ],
            "application/vnd.jupyter.widget-view+json": {
              "version_major": 2,
              "version_minor": 0,
              "model_id": "16edbb04cd7b4f219601049dd0dffaec"
            }
          },
          "metadata": {}
        },
        {
          "output_type": "display_data",
          "data": {
            "text/plain": [
              "special_tokens_map.json:   0%|          | 0.00/112 [00:00<?, ?B/s]"
            ],
            "application/vnd.jupyter.widget-view+json": {
              "version_major": 2,
              "version_minor": 0,
              "model_id": "415788bffbcc49ee8993d4fe0c972a09"
            }
          },
          "metadata": {}
        },
        {
          "output_type": "display_data",
          "data": {
            "text/plain": [
              "pytorch_model.bin:   0%|          | 0.00/669M [00:00<?, ?B/s]"
            ],
            "application/vnd.jupyter.widget-view+json": {
              "version_major": 2,
              "version_minor": 0,
              "model_id": "d395bb11520741e0bbe732d28868f91a"
            }
          },
          "metadata": {}
        }
      ]
    },
    {
      "cell_type": "markdown",
      "source": [
        "## Encode and Calculate Sentiment"
      ],
      "metadata": {
        "id": "sEpzAXf3IJtb"
      }
    },
    {
      "cell_type": "code",
      "source": [
        "tokens = tokenizer.encode('The place was amazing but the menu was too dull', return_tensors='pt') # pt - Set it to pytorch"
      ],
      "metadata": {
        "id": "gpaQueVBGjuO"
      },
      "execution_count": 22,
      "outputs": []
    },
    {
      "cell_type": "code",
      "source": [
        "tokens"
      ],
      "metadata": {
        "colab": {
          "base_uri": "https://localhost:8080/"
        },
        "id": "_LWmoEvsIjFv",
        "outputId": "92ff1985-2e88-4374-a97c-0add58aa431b"
      },
      "execution_count": 23,
      "outputs": [
        {
          "output_type": "execute_result",
          "data": {
            "text/plain": [
              "tensor([[  101, 10103, 11125, 10140, 39854, 10502, 10103, 43182, 10140, 14666,\n",
              "         77617, 10159,   102]])"
            ]
          },
          "metadata": {},
          "execution_count": 23
        }
      ]
    },
    {
      "cell_type": "code",
      "source": [
        "result = model(tokens)"
      ],
      "metadata": {
        "id": "5r1e1CeDIkbO"
      },
      "execution_count": 24,
      "outputs": []
    },
    {
      "cell_type": "code",
      "source": [
        "result.logits"
      ],
      "metadata": {
        "colab": {
          "base_uri": "https://localhost:8080/"
        },
        "id": "1PT_yYZiJELL",
        "outputId": "16070a27-a239-405a-cffa-51f43fcbd23a"
      },
      "execution_count": 25,
      "outputs": [
        {
          "output_type": "execute_result",
          "data": {
            "text/plain": [
              "tensor([[-0.0857,  1.1400,  1.5220,  0.0301, -2.0595]],\n",
              "       grad_fn=<AddmmBackward0>)"
            ]
          },
          "metadata": {},
          "execution_count": 25
        }
      ]
    },
    {
      "cell_type": "markdown",
      "source": [
        "logits=tensor([[-2.7904, -1.3706,  1.1917,  2.0212,  0.7229] - These are the probabilities from the softmax function working with cross entropy at the final lasyer."
      ],
      "metadata": {
        "id": "1UxFnv8JJMoE"
      }
    },
    {
      "cell_type": "code",
      "source": [
        "# Return the index of the max value from the logits\n",
        "int(torch.argmax(result.logits))+1"
      ],
      "metadata": {
        "colab": {
          "base_uri": "https://localhost:8080/"
        },
        "id": "9TpPqzeRJFvj",
        "outputId": "eb6bbbe8-bbb4-4238-c52f-41f5b5c96c64"
      },
      "execution_count": 26,
      "outputs": [
        {
          "output_type": "execute_result",
          "data": {
            "text/plain": [
              "3"
            ]
          },
          "metadata": {},
          "execution_count": 26
        }
      ]
    },
    {
      "cell_type": "markdown",
      "source": [
        "## Collect YELP Reviews"
      ],
      "metadata": {
        "id": "_a_EjxDhNpNi"
      }
    },
    {
      "cell_type": "code",
      "source": [
        "r = requests.get('https://www.yelp.com/biz/yes-apothecary-new-york-4')\n",
        "soup = BeautifulSoup(r.text, 'html.parser')\n",
        "regex = re.compile('.*comment.*')\n",
        "results = soup.find_all('p', {'class':regex})\n",
        "reviews = [result.text for result in results]"
      ],
      "metadata": {
        "id": "jroAYFZzUqwA"
      },
      "execution_count": 11,
      "outputs": []
    },
    {
      "cell_type": "code",
      "source": [
        "results[1].text"
      ],
      "metadata": {
        "colab": {
          "base_uri": "https://localhost:8080/",
          "height": 71
        },
        "id": "QnGaL7HpVo-X",
        "outputId": "fbe9c248-7972-41c6-dc14-ec578d9a2de1"
      },
      "execution_count": 9,
      "outputs": [
        {
          "output_type": "execute_result",
          "data": {
            "text/plain": [
              "'Great food, with choices suited to both dining or snacking with a drink. Creative cocktail menu with seasonal and staple drinks incorporating sichuan/chinese flavours and liquors hard to find anywhere else (ie. baijiu). Stop by for dinner or a drink and snack. Service was efficient with gracious FOH and servers.'"
            ],
            "application/vnd.google.colaboratory.intrinsic+json": {
              "type": "string"
            }
          },
          "metadata": {},
          "execution_count": 9
        }
      ]
    },
    {
      "cell_type": "code",
      "source": [
        "reviews[0]"
      ],
      "metadata": {
        "colab": {
          "base_uri": "https://localhost:8080/",
          "height": 35
        },
        "id": "FnAOcshtUqmp",
        "outputId": "5a75a9a6-b8aa-4d4a-afe0-84770c2d74b0"
      },
      "execution_count": 14,
      "outputs": [
        {
          "output_type": "execute_result",
          "data": {
            "text/plain": [
              "'Great drinks and atmosphere! Rob was awesome and gave great insights into the drinks! Highly recommend'"
            ],
            "application/vnd.google.colaboratory.intrinsic+json": {
              "type": "string"
            }
          },
          "metadata": {},
          "execution_count": 14
        }
      ]
    },
    {
      "cell_type": "markdown",
      "source": [
        "## Load Reviews into dataframe and score"
      ],
      "metadata": {
        "id": "n5rzEJQQXjlS"
      }
    },
    {
      "cell_type": "code",
      "source": [
        "import numpy as np\n",
        "import pandas as pd"
      ],
      "metadata": {
        "id": "u9p80COaXmbP"
      },
      "execution_count": 15,
      "outputs": []
    },
    {
      "cell_type": "code",
      "source": [
        "# Get the reviews to a dataframe\n",
        "df = pd.DataFrame(np.array(reviews), columns=['review'])"
      ],
      "metadata": {
        "id": "dxqGjNOyXxSq"
      },
      "execution_count": 18,
      "outputs": []
    },
    {
      "cell_type": "code",
      "source": [
        "df.head()"
      ],
      "metadata": {
        "colab": {
          "base_uri": "https://localhost:8080/",
          "height": 206
        },
        "id": "x81aA-Q2YgJT",
        "outputId": "32d40390-ca1b-4ad2-ea6c-70affbbf06a3"
      },
      "execution_count": 19,
      "outputs": [
        {
          "output_type": "execute_result",
          "data": {
            "text/plain": [
              "                                              review\n",
              "0  Great drinks and atmosphere! Rob was awesome a...\n",
              "1  Great food, with choices suited to both dining...\n",
              "2  Great vibes, knowledgeable staff with good rec...\n",
              "3  Honestly my favorite Szechuan place in the cit...\n",
              "4  Cozy bar with beautiful decor. Food seems pric..."
            ],
            "text/html": [
              "\n",
              "  <div id=\"df-770ad877-6276-485e-972e-1c2da0e77dc8\" class=\"colab-df-container\">\n",
              "    <div>\n",
              "<style scoped>\n",
              "    .dataframe tbody tr th:only-of-type {\n",
              "        vertical-align: middle;\n",
              "    }\n",
              "\n",
              "    .dataframe tbody tr th {\n",
              "        vertical-align: top;\n",
              "    }\n",
              "\n",
              "    .dataframe thead th {\n",
              "        text-align: right;\n",
              "    }\n",
              "</style>\n",
              "<table border=\"1\" class=\"dataframe\">\n",
              "  <thead>\n",
              "    <tr style=\"text-align: right;\">\n",
              "      <th></th>\n",
              "      <th>review</th>\n",
              "    </tr>\n",
              "  </thead>\n",
              "  <tbody>\n",
              "    <tr>\n",
              "      <th>0</th>\n",
              "      <td>Great drinks and atmosphere! Rob was awesome a...</td>\n",
              "    </tr>\n",
              "    <tr>\n",
              "      <th>1</th>\n",
              "      <td>Great food, with choices suited to both dining...</td>\n",
              "    </tr>\n",
              "    <tr>\n",
              "      <th>2</th>\n",
              "      <td>Great vibes, knowledgeable staff with good rec...</td>\n",
              "    </tr>\n",
              "    <tr>\n",
              "      <th>3</th>\n",
              "      <td>Honestly my favorite Szechuan place in the cit...</td>\n",
              "    </tr>\n",
              "    <tr>\n",
              "      <th>4</th>\n",
              "      <td>Cozy bar with beautiful decor. Food seems pric...</td>\n",
              "    </tr>\n",
              "  </tbody>\n",
              "</table>\n",
              "</div>\n",
              "    <div class=\"colab-df-buttons\">\n",
              "\n",
              "  <div class=\"colab-df-container\">\n",
              "    <button class=\"colab-df-convert\" onclick=\"convertToInteractive('df-770ad877-6276-485e-972e-1c2da0e77dc8')\"\n",
              "            title=\"Convert this dataframe to an interactive table.\"\n",
              "            style=\"display:none;\">\n",
              "\n",
              "  <svg xmlns=\"http://www.w3.org/2000/svg\" height=\"24px\" viewBox=\"0 -960 960 960\">\n",
              "    <path d=\"M120-120v-720h720v720H120Zm60-500h600v-160H180v160Zm220 220h160v-160H400v160Zm0 220h160v-160H400v160ZM180-400h160v-160H180v160Zm440 0h160v-160H620v160ZM180-180h160v-160H180v160Zm440 0h160v-160H620v160Z\"/>\n",
              "  </svg>\n",
              "    </button>\n",
              "\n",
              "  <style>\n",
              "    .colab-df-container {\n",
              "      display:flex;\n",
              "      gap: 12px;\n",
              "    }\n",
              "\n",
              "    .colab-df-convert {\n",
              "      background-color: #E8F0FE;\n",
              "      border: none;\n",
              "      border-radius: 50%;\n",
              "      cursor: pointer;\n",
              "      display: none;\n",
              "      fill: #1967D2;\n",
              "      height: 32px;\n",
              "      padding: 0 0 0 0;\n",
              "      width: 32px;\n",
              "    }\n",
              "\n",
              "    .colab-df-convert:hover {\n",
              "      background-color: #E2EBFA;\n",
              "      box-shadow: 0px 1px 2px rgba(60, 64, 67, 0.3), 0px 1px 3px 1px rgba(60, 64, 67, 0.15);\n",
              "      fill: #174EA6;\n",
              "    }\n",
              "\n",
              "    .colab-df-buttons div {\n",
              "      margin-bottom: 4px;\n",
              "    }\n",
              "\n",
              "    [theme=dark] .colab-df-convert {\n",
              "      background-color: #3B4455;\n",
              "      fill: #D2E3FC;\n",
              "    }\n",
              "\n",
              "    [theme=dark] .colab-df-convert:hover {\n",
              "      background-color: #434B5C;\n",
              "      box-shadow: 0px 1px 3px 1px rgba(0, 0, 0, 0.15);\n",
              "      filter: drop-shadow(0px 1px 2px rgba(0, 0, 0, 0.3));\n",
              "      fill: #FFFFFF;\n",
              "    }\n",
              "  </style>\n",
              "\n",
              "    <script>\n",
              "      const buttonEl =\n",
              "        document.querySelector('#df-770ad877-6276-485e-972e-1c2da0e77dc8 button.colab-df-convert');\n",
              "      buttonEl.style.display =\n",
              "        google.colab.kernel.accessAllowed ? 'block' : 'none';\n",
              "\n",
              "      async function convertToInteractive(key) {\n",
              "        const element = document.querySelector('#df-770ad877-6276-485e-972e-1c2da0e77dc8');\n",
              "        const dataTable =\n",
              "          await google.colab.kernel.invokeFunction('convertToInteractive',\n",
              "                                                    [key], {});\n",
              "        if (!dataTable) return;\n",
              "\n",
              "        const docLinkHtml = 'Like what you see? Visit the ' +\n",
              "          '<a target=\"_blank\" href=https://colab.research.google.com/notebooks/data_table.ipynb>data table notebook</a>'\n",
              "          + ' to learn more about interactive tables.';\n",
              "        element.innerHTML = '';\n",
              "        dataTable['output_type'] = 'display_data';\n",
              "        await google.colab.output.renderOutput(dataTable, element);\n",
              "        const docLink = document.createElement('div');\n",
              "        docLink.innerHTML = docLinkHtml;\n",
              "        element.appendChild(docLink);\n",
              "      }\n",
              "    </script>\n",
              "  </div>\n",
              "\n",
              "\n",
              "<div id=\"df-82bd125d-fb13-4bb7-9e24-ca33002b4c2b\">\n",
              "  <button class=\"colab-df-quickchart\" onclick=\"quickchart('df-82bd125d-fb13-4bb7-9e24-ca33002b4c2b')\"\n",
              "            title=\"Suggest charts\"\n",
              "            style=\"display:none;\">\n",
              "\n",
              "<svg xmlns=\"http://www.w3.org/2000/svg\" height=\"24px\"viewBox=\"0 0 24 24\"\n",
              "     width=\"24px\">\n",
              "    <g>\n",
              "        <path d=\"M19 3H5c-1.1 0-2 .9-2 2v14c0 1.1.9 2 2 2h14c1.1 0 2-.9 2-2V5c0-1.1-.9-2-2-2zM9 17H7v-7h2v7zm4 0h-2V7h2v10zm4 0h-2v-4h2v4z\"/>\n",
              "    </g>\n",
              "</svg>\n",
              "  </button>\n",
              "\n",
              "<style>\n",
              "  .colab-df-quickchart {\n",
              "      --bg-color: #E8F0FE;\n",
              "      --fill-color: #1967D2;\n",
              "      --hover-bg-color: #E2EBFA;\n",
              "      --hover-fill-color: #174EA6;\n",
              "      --disabled-fill-color: #AAA;\n",
              "      --disabled-bg-color: #DDD;\n",
              "  }\n",
              "\n",
              "  [theme=dark] .colab-df-quickchart {\n",
              "      --bg-color: #3B4455;\n",
              "      --fill-color: #D2E3FC;\n",
              "      --hover-bg-color: #434B5C;\n",
              "      --hover-fill-color: #FFFFFF;\n",
              "      --disabled-bg-color: #3B4455;\n",
              "      --disabled-fill-color: #666;\n",
              "  }\n",
              "\n",
              "  .colab-df-quickchart {\n",
              "    background-color: var(--bg-color);\n",
              "    border: none;\n",
              "    border-radius: 50%;\n",
              "    cursor: pointer;\n",
              "    display: none;\n",
              "    fill: var(--fill-color);\n",
              "    height: 32px;\n",
              "    padding: 0;\n",
              "    width: 32px;\n",
              "  }\n",
              "\n",
              "  .colab-df-quickchart:hover {\n",
              "    background-color: var(--hover-bg-color);\n",
              "    box-shadow: 0 1px 2px rgba(60, 64, 67, 0.3), 0 1px 3px 1px rgba(60, 64, 67, 0.15);\n",
              "    fill: var(--button-hover-fill-color);\n",
              "  }\n",
              "\n",
              "  .colab-df-quickchart-complete:disabled,\n",
              "  .colab-df-quickchart-complete:disabled:hover {\n",
              "    background-color: var(--disabled-bg-color);\n",
              "    fill: var(--disabled-fill-color);\n",
              "    box-shadow: none;\n",
              "  }\n",
              "\n",
              "  .colab-df-spinner {\n",
              "    border: 2px solid var(--fill-color);\n",
              "    border-color: transparent;\n",
              "    border-bottom-color: var(--fill-color);\n",
              "    animation:\n",
              "      spin 1s steps(1) infinite;\n",
              "  }\n",
              "\n",
              "  @keyframes spin {\n",
              "    0% {\n",
              "      border-color: transparent;\n",
              "      border-bottom-color: var(--fill-color);\n",
              "      border-left-color: var(--fill-color);\n",
              "    }\n",
              "    20% {\n",
              "      border-color: transparent;\n",
              "      border-left-color: var(--fill-color);\n",
              "      border-top-color: var(--fill-color);\n",
              "    }\n",
              "    30% {\n",
              "      border-color: transparent;\n",
              "      border-left-color: var(--fill-color);\n",
              "      border-top-color: var(--fill-color);\n",
              "      border-right-color: var(--fill-color);\n",
              "    }\n",
              "    40% {\n",
              "      border-color: transparent;\n",
              "      border-right-color: var(--fill-color);\n",
              "      border-top-color: var(--fill-color);\n",
              "    }\n",
              "    60% {\n",
              "      border-color: transparent;\n",
              "      border-right-color: var(--fill-color);\n",
              "    }\n",
              "    80% {\n",
              "      border-color: transparent;\n",
              "      border-right-color: var(--fill-color);\n",
              "      border-bottom-color: var(--fill-color);\n",
              "    }\n",
              "    90% {\n",
              "      border-color: transparent;\n",
              "      border-bottom-color: var(--fill-color);\n",
              "    }\n",
              "  }\n",
              "</style>\n",
              "\n",
              "  <script>\n",
              "    async function quickchart(key) {\n",
              "      const quickchartButtonEl =\n",
              "        document.querySelector('#' + key + ' button');\n",
              "      quickchartButtonEl.disabled = true;  // To prevent multiple clicks.\n",
              "      quickchartButtonEl.classList.add('colab-df-spinner');\n",
              "      try {\n",
              "        const charts = await google.colab.kernel.invokeFunction(\n",
              "            'suggestCharts', [key], {});\n",
              "      } catch (error) {\n",
              "        console.error('Error during call to suggestCharts:', error);\n",
              "      }\n",
              "      quickchartButtonEl.classList.remove('colab-df-spinner');\n",
              "      quickchartButtonEl.classList.add('colab-df-quickchart-complete');\n",
              "    }\n",
              "    (() => {\n",
              "      let quickchartButtonEl =\n",
              "        document.querySelector('#df-82bd125d-fb13-4bb7-9e24-ca33002b4c2b button');\n",
              "      quickchartButtonEl.style.display =\n",
              "        google.colab.kernel.accessAllowed ? 'block' : 'none';\n",
              "    })();\n",
              "  </script>\n",
              "</div>\n",
              "\n",
              "    </div>\n",
              "  </div>\n"
            ]
          },
          "metadata": {},
          "execution_count": 19
        }
      ]
    },
    {
      "cell_type": "code",
      "source": [
        "df['review'].iloc[0]"
      ],
      "metadata": {
        "colab": {
          "base_uri": "https://localhost:8080/",
          "height": 35
        },
        "id": "qn8XE8ClX1ZF",
        "outputId": "e99ed37d-f547-49f3-d96c-7697711778a4"
      },
      "execution_count": 20,
      "outputs": [
        {
          "output_type": "execute_result",
          "data": {
            "text/plain": [
              "'Great drinks and atmosphere! Rob was awesome and gave great insights into the drinks! Highly recommend'"
            ],
            "application/vnd.google.colaboratory.intrinsic+json": {
              "type": "string"
            }
          },
          "metadata": {},
          "execution_count": 20
        }
      ]
    },
    {
      "cell_type": "code",
      "source": [
        "# Pass the review to the tokenzier and the model and get the score\n",
        "def sentiment_score(review):\n",
        "    tokens = tokenizer.encode(review, return_tensors='pt')\n",
        "    result = model(tokens)\n",
        "    return int(torch.argmax(result.logits))+1"
      ],
      "metadata": {
        "id": "7_ukZEilX1XA"
      },
      "execution_count": 28,
      "outputs": []
    },
    {
      "cell_type": "code",
      "source": [
        "sentiment_score(df['review'].iloc[1])"
      ],
      "metadata": {
        "colab": {
          "base_uri": "https://localhost:8080/"
        },
        "id": "tFGcrULbX1WT",
        "outputId": "cd0cfebb-a274-457d-a279-3aafcfac60ab"
      },
      "execution_count": 29,
      "outputs": [
        {
          "output_type": "execute_result",
          "data": {
            "text/plain": [
              "5"
            ]
          },
          "metadata": {},
          "execution_count": 29
        }
      ]
    },
    {
      "cell_type": "code",
      "source": [
        "sentiment_score(df['review'].iloc[3])"
      ],
      "metadata": {
        "colab": {
          "base_uri": "https://localhost:8080/"
        },
        "id": "6GhmDaHPaGQs",
        "outputId": "34d5adf7-66e1-4404-eb92-8eeb48b73cc4"
      },
      "execution_count": 30,
      "outputs": [
        {
          "output_type": "execute_result",
          "data": {
            "text/plain": [
              "5"
            ]
          },
          "metadata": {},
          "execution_count": 30
        }
      ]
    },
    {
      "cell_type": "code",
      "source": [
        "sentiment_score(df['review'].iloc[7])"
      ],
      "metadata": {
        "colab": {
          "base_uri": "https://localhost:8080/"
        },
        "id": "kmqv73FIaGJT",
        "outputId": "6f3733bb-3ffe-48d4-db54-eb8c24d4f0ae"
      },
      "execution_count": 32,
      "outputs": [
        {
          "output_type": "execute_result",
          "data": {
            "text/plain": [
              "4"
            ]
          },
          "metadata": {},
          "execution_count": 32
        }
      ]
    },
    {
      "cell_type": "code",
      "source": [
        "# Use the apply method to automate sentiment analysis\n",
        "df['sentiment'] = df['review'].apply(lambda x: sentiment_score(x[:512]))"
      ],
      "metadata": {
        "id": "sDXK-UanX_OR"
      },
      "execution_count": 33,
      "outputs": []
    },
    {
      "cell_type": "code",
      "source": [
        "df"
      ],
      "metadata": {
        "colab": {
          "base_uri": "https://localhost:8080/",
          "height": 363
        },
        "id": "VzpY-nboYBKh",
        "outputId": "e56e262f-9668-4148-ae8c-5d4022b69824"
      },
      "execution_count": 34,
      "outputs": [
        {
          "output_type": "execute_result",
          "data": {
            "text/plain": [
              "                                              review  sentiment\n",
              "0  Great drinks and atmosphere! Rob was awesome a...          5\n",
              "1  Great food, with choices suited to both dining...          5\n",
              "2  Great vibes, knowledgeable staff with good rec...          5\n",
              "3  Honestly my favorite Szechuan place in the cit...          5\n",
              "4  Cozy bar with beautiful decor. Food seems pric...          4\n",
              "5  First time here and the ambiance is as describ...          2\n",
              "6  Nestled in the Lower East Side on the border o...          4\n",
              "7  My boyfriend and I came here for dinner and we...          4\n",
              "8  Ye's Apothecary is located below street and ma...          4\n",
              "9  Dishes were flavorful and warming, especially ...          4"
            ],
            "text/html": [
              "\n",
              "  <div id=\"df-f6d5c1e6-7c2e-4f78-ace4-5b5396c9097c\" class=\"colab-df-container\">\n",
              "    <div>\n",
              "<style scoped>\n",
              "    .dataframe tbody tr th:only-of-type {\n",
              "        vertical-align: middle;\n",
              "    }\n",
              "\n",
              "    .dataframe tbody tr th {\n",
              "        vertical-align: top;\n",
              "    }\n",
              "\n",
              "    .dataframe thead th {\n",
              "        text-align: right;\n",
              "    }\n",
              "</style>\n",
              "<table border=\"1\" class=\"dataframe\">\n",
              "  <thead>\n",
              "    <tr style=\"text-align: right;\">\n",
              "      <th></th>\n",
              "      <th>review</th>\n",
              "      <th>sentiment</th>\n",
              "    </tr>\n",
              "  </thead>\n",
              "  <tbody>\n",
              "    <tr>\n",
              "      <th>0</th>\n",
              "      <td>Great drinks and atmosphere! Rob was awesome a...</td>\n",
              "      <td>5</td>\n",
              "    </tr>\n",
              "    <tr>\n",
              "      <th>1</th>\n",
              "      <td>Great food, with choices suited to both dining...</td>\n",
              "      <td>5</td>\n",
              "    </tr>\n",
              "    <tr>\n",
              "      <th>2</th>\n",
              "      <td>Great vibes, knowledgeable staff with good rec...</td>\n",
              "      <td>5</td>\n",
              "    </tr>\n",
              "    <tr>\n",
              "      <th>3</th>\n",
              "      <td>Honestly my favorite Szechuan place in the cit...</td>\n",
              "      <td>5</td>\n",
              "    </tr>\n",
              "    <tr>\n",
              "      <th>4</th>\n",
              "      <td>Cozy bar with beautiful decor. Food seems pric...</td>\n",
              "      <td>4</td>\n",
              "    </tr>\n",
              "    <tr>\n",
              "      <th>5</th>\n",
              "      <td>First time here and the ambiance is as describ...</td>\n",
              "      <td>2</td>\n",
              "    </tr>\n",
              "    <tr>\n",
              "      <th>6</th>\n",
              "      <td>Nestled in the Lower East Side on the border o...</td>\n",
              "      <td>4</td>\n",
              "    </tr>\n",
              "    <tr>\n",
              "      <th>7</th>\n",
              "      <td>My boyfriend and I came here for dinner and we...</td>\n",
              "      <td>4</td>\n",
              "    </tr>\n",
              "    <tr>\n",
              "      <th>8</th>\n",
              "      <td>Ye's Apothecary is located below street and ma...</td>\n",
              "      <td>4</td>\n",
              "    </tr>\n",
              "    <tr>\n",
              "      <th>9</th>\n",
              "      <td>Dishes were flavorful and warming, especially ...</td>\n",
              "      <td>4</td>\n",
              "    </tr>\n",
              "  </tbody>\n",
              "</table>\n",
              "</div>\n",
              "    <div class=\"colab-df-buttons\">\n",
              "\n",
              "  <div class=\"colab-df-container\">\n",
              "    <button class=\"colab-df-convert\" onclick=\"convertToInteractive('df-f6d5c1e6-7c2e-4f78-ace4-5b5396c9097c')\"\n",
              "            title=\"Convert this dataframe to an interactive table.\"\n",
              "            style=\"display:none;\">\n",
              "\n",
              "  <svg xmlns=\"http://www.w3.org/2000/svg\" height=\"24px\" viewBox=\"0 -960 960 960\">\n",
              "    <path d=\"M120-120v-720h720v720H120Zm60-500h600v-160H180v160Zm220 220h160v-160H400v160Zm0 220h160v-160H400v160ZM180-400h160v-160H180v160Zm440 0h160v-160H620v160ZM180-180h160v-160H180v160Zm440 0h160v-160H620v160Z\"/>\n",
              "  </svg>\n",
              "    </button>\n",
              "\n",
              "  <style>\n",
              "    .colab-df-container {\n",
              "      display:flex;\n",
              "      gap: 12px;\n",
              "    }\n",
              "\n",
              "    .colab-df-convert {\n",
              "      background-color: #E8F0FE;\n",
              "      border: none;\n",
              "      border-radius: 50%;\n",
              "      cursor: pointer;\n",
              "      display: none;\n",
              "      fill: #1967D2;\n",
              "      height: 32px;\n",
              "      padding: 0 0 0 0;\n",
              "      width: 32px;\n",
              "    }\n",
              "\n",
              "    .colab-df-convert:hover {\n",
              "      background-color: #E2EBFA;\n",
              "      box-shadow: 0px 1px 2px rgba(60, 64, 67, 0.3), 0px 1px 3px 1px rgba(60, 64, 67, 0.15);\n",
              "      fill: #174EA6;\n",
              "    }\n",
              "\n",
              "    .colab-df-buttons div {\n",
              "      margin-bottom: 4px;\n",
              "    }\n",
              "\n",
              "    [theme=dark] .colab-df-convert {\n",
              "      background-color: #3B4455;\n",
              "      fill: #D2E3FC;\n",
              "    }\n",
              "\n",
              "    [theme=dark] .colab-df-convert:hover {\n",
              "      background-color: #434B5C;\n",
              "      box-shadow: 0px 1px 3px 1px rgba(0, 0, 0, 0.15);\n",
              "      filter: drop-shadow(0px 1px 2px rgba(0, 0, 0, 0.3));\n",
              "      fill: #FFFFFF;\n",
              "    }\n",
              "  </style>\n",
              "\n",
              "    <script>\n",
              "      const buttonEl =\n",
              "        document.querySelector('#df-f6d5c1e6-7c2e-4f78-ace4-5b5396c9097c button.colab-df-convert');\n",
              "      buttonEl.style.display =\n",
              "        google.colab.kernel.accessAllowed ? 'block' : 'none';\n",
              "\n",
              "      async function convertToInteractive(key) {\n",
              "        const element = document.querySelector('#df-f6d5c1e6-7c2e-4f78-ace4-5b5396c9097c');\n",
              "        const dataTable =\n",
              "          await google.colab.kernel.invokeFunction('convertToInteractive',\n",
              "                                                    [key], {});\n",
              "        if (!dataTable) return;\n",
              "\n",
              "        const docLinkHtml = 'Like what you see? Visit the ' +\n",
              "          '<a target=\"_blank\" href=https://colab.research.google.com/notebooks/data_table.ipynb>data table notebook</a>'\n",
              "          + ' to learn more about interactive tables.';\n",
              "        element.innerHTML = '';\n",
              "        dataTable['output_type'] = 'display_data';\n",
              "        await google.colab.output.renderOutput(dataTable, element);\n",
              "        const docLink = document.createElement('div');\n",
              "        docLink.innerHTML = docLinkHtml;\n",
              "        element.appendChild(docLink);\n",
              "      }\n",
              "    </script>\n",
              "  </div>\n",
              "\n",
              "\n",
              "<div id=\"df-897cdbd9-06e9-4a3b-8032-719cf7cb2192\">\n",
              "  <button class=\"colab-df-quickchart\" onclick=\"quickchart('df-897cdbd9-06e9-4a3b-8032-719cf7cb2192')\"\n",
              "            title=\"Suggest charts\"\n",
              "            style=\"display:none;\">\n",
              "\n",
              "<svg xmlns=\"http://www.w3.org/2000/svg\" height=\"24px\"viewBox=\"0 0 24 24\"\n",
              "     width=\"24px\">\n",
              "    <g>\n",
              "        <path d=\"M19 3H5c-1.1 0-2 .9-2 2v14c0 1.1.9 2 2 2h14c1.1 0 2-.9 2-2V5c0-1.1-.9-2-2-2zM9 17H7v-7h2v7zm4 0h-2V7h2v10zm4 0h-2v-4h2v4z\"/>\n",
              "    </g>\n",
              "</svg>\n",
              "  </button>\n",
              "\n",
              "<style>\n",
              "  .colab-df-quickchart {\n",
              "      --bg-color: #E8F0FE;\n",
              "      --fill-color: #1967D2;\n",
              "      --hover-bg-color: #E2EBFA;\n",
              "      --hover-fill-color: #174EA6;\n",
              "      --disabled-fill-color: #AAA;\n",
              "      --disabled-bg-color: #DDD;\n",
              "  }\n",
              "\n",
              "  [theme=dark] .colab-df-quickchart {\n",
              "      --bg-color: #3B4455;\n",
              "      --fill-color: #D2E3FC;\n",
              "      --hover-bg-color: #434B5C;\n",
              "      --hover-fill-color: #FFFFFF;\n",
              "      --disabled-bg-color: #3B4455;\n",
              "      --disabled-fill-color: #666;\n",
              "  }\n",
              "\n",
              "  .colab-df-quickchart {\n",
              "    background-color: var(--bg-color);\n",
              "    border: none;\n",
              "    border-radius: 50%;\n",
              "    cursor: pointer;\n",
              "    display: none;\n",
              "    fill: var(--fill-color);\n",
              "    height: 32px;\n",
              "    padding: 0;\n",
              "    width: 32px;\n",
              "  }\n",
              "\n",
              "  .colab-df-quickchart:hover {\n",
              "    background-color: var(--hover-bg-color);\n",
              "    box-shadow: 0 1px 2px rgba(60, 64, 67, 0.3), 0 1px 3px 1px rgba(60, 64, 67, 0.15);\n",
              "    fill: var(--button-hover-fill-color);\n",
              "  }\n",
              "\n",
              "  .colab-df-quickchart-complete:disabled,\n",
              "  .colab-df-quickchart-complete:disabled:hover {\n",
              "    background-color: var(--disabled-bg-color);\n",
              "    fill: var(--disabled-fill-color);\n",
              "    box-shadow: none;\n",
              "  }\n",
              "\n",
              "  .colab-df-spinner {\n",
              "    border: 2px solid var(--fill-color);\n",
              "    border-color: transparent;\n",
              "    border-bottom-color: var(--fill-color);\n",
              "    animation:\n",
              "      spin 1s steps(1) infinite;\n",
              "  }\n",
              "\n",
              "  @keyframes spin {\n",
              "    0% {\n",
              "      border-color: transparent;\n",
              "      border-bottom-color: var(--fill-color);\n",
              "      border-left-color: var(--fill-color);\n",
              "    }\n",
              "    20% {\n",
              "      border-color: transparent;\n",
              "      border-left-color: var(--fill-color);\n",
              "      border-top-color: var(--fill-color);\n",
              "    }\n",
              "    30% {\n",
              "      border-color: transparent;\n",
              "      border-left-color: var(--fill-color);\n",
              "      border-top-color: var(--fill-color);\n",
              "      border-right-color: var(--fill-color);\n",
              "    }\n",
              "    40% {\n",
              "      border-color: transparent;\n",
              "      border-right-color: var(--fill-color);\n",
              "      border-top-color: var(--fill-color);\n",
              "    }\n",
              "    60% {\n",
              "      border-color: transparent;\n",
              "      border-right-color: var(--fill-color);\n",
              "    }\n",
              "    80% {\n",
              "      border-color: transparent;\n",
              "      border-right-color: var(--fill-color);\n",
              "      border-bottom-color: var(--fill-color);\n",
              "    }\n",
              "    90% {\n",
              "      border-color: transparent;\n",
              "      border-bottom-color: var(--fill-color);\n",
              "    }\n",
              "  }\n",
              "</style>\n",
              "\n",
              "  <script>\n",
              "    async function quickchart(key) {\n",
              "      const quickchartButtonEl =\n",
              "        document.querySelector('#' + key + ' button');\n",
              "      quickchartButtonEl.disabled = true;  // To prevent multiple clicks.\n",
              "      quickchartButtonEl.classList.add('colab-df-spinner');\n",
              "      try {\n",
              "        const charts = await google.colab.kernel.invokeFunction(\n",
              "            'suggestCharts', [key], {});\n",
              "      } catch (error) {\n",
              "        console.error('Error during call to suggestCharts:', error);\n",
              "      }\n",
              "      quickchartButtonEl.classList.remove('colab-df-spinner');\n",
              "      quickchartButtonEl.classList.add('colab-df-quickchart-complete');\n",
              "    }\n",
              "    (() => {\n",
              "      let quickchartButtonEl =\n",
              "        document.querySelector('#df-897cdbd9-06e9-4a3b-8032-719cf7cb2192 button');\n",
              "      quickchartButtonEl.style.display =\n",
              "        google.colab.kernel.accessAllowed ? 'block' : 'none';\n",
              "    })();\n",
              "  </script>\n",
              "</div>\n",
              "\n",
              "  <div id=\"id_d1207c6b-c0fe-4a35-a2aa-787391f345da\">\n",
              "    <style>\n",
              "      .colab-df-generate {\n",
              "        background-color: #E8F0FE;\n",
              "        border: none;\n",
              "        border-radius: 50%;\n",
              "        cursor: pointer;\n",
              "        display: none;\n",
              "        fill: #1967D2;\n",
              "        height: 32px;\n",
              "        padding: 0 0 0 0;\n",
              "        width: 32px;\n",
              "      }\n",
              "\n",
              "      .colab-df-generate:hover {\n",
              "        background-color: #E2EBFA;\n",
              "        box-shadow: 0px 1px 2px rgba(60, 64, 67, 0.3), 0px 1px 3px 1px rgba(60, 64, 67, 0.15);\n",
              "        fill: #174EA6;\n",
              "      }\n",
              "\n",
              "      [theme=dark] .colab-df-generate {\n",
              "        background-color: #3B4455;\n",
              "        fill: #D2E3FC;\n",
              "      }\n",
              "\n",
              "      [theme=dark] .colab-df-generate:hover {\n",
              "        background-color: #434B5C;\n",
              "        box-shadow: 0px 1px 3px 1px rgba(0, 0, 0, 0.15);\n",
              "        filter: drop-shadow(0px 1px 2px rgba(0, 0, 0, 0.3));\n",
              "        fill: #FFFFFF;\n",
              "      }\n",
              "    </style>\n",
              "    <button class=\"colab-df-generate\" onclick=\"generateWithVariable('df')\"\n",
              "            title=\"Generate code using this dataframe.\"\n",
              "            style=\"display:none;\">\n",
              "\n",
              "  <svg xmlns=\"http://www.w3.org/2000/svg\" height=\"24px\"viewBox=\"0 0 24 24\"\n",
              "       width=\"24px\">\n",
              "    <path d=\"M7,19H8.4L18.45,9,17,7.55,7,17.6ZM5,21V16.75L18.45,3.32a2,2,0,0,1,2.83,0l1.4,1.43a1.91,1.91,0,0,1,.58,1.4,1.91,1.91,0,0,1-.58,1.4L9.25,21ZM18.45,9,17,7.55Zm-12,3A5.31,5.31,0,0,0,4.9,8.1,5.31,5.31,0,0,0,1,6.5,5.31,5.31,0,0,0,4.9,4.9,5.31,5.31,0,0,0,6.5,1,5.31,5.31,0,0,0,8.1,4.9,5.31,5.31,0,0,0,12,6.5,5.46,5.46,0,0,0,6.5,12Z\"/>\n",
              "  </svg>\n",
              "    </button>\n",
              "    <script>\n",
              "      (() => {\n",
              "      const buttonEl =\n",
              "        document.querySelector('#id_d1207c6b-c0fe-4a35-a2aa-787391f345da button.colab-df-generate');\n",
              "      buttonEl.style.display =\n",
              "        google.colab.kernel.accessAllowed ? 'block' : 'none';\n",
              "\n",
              "      buttonEl.onclick = () => {\n",
              "        google.colab.notebook.generateWithVariable('df');\n",
              "      }\n",
              "      })();\n",
              "    </script>\n",
              "  </div>\n",
              "\n",
              "    </div>\n",
              "  </div>\n"
            ]
          },
          "metadata": {},
          "execution_count": 34
        }
      ]
    },
    {
      "cell_type": "code",
      "source": [
        "df['review'].iloc[3]"
      ],
      "metadata": {
        "colab": {
          "base_uri": "https://localhost:8080/",
          "height": 107
        },
        "id": "qFpQn16kYBzY",
        "outputId": "4d3c0091-a232-4401-f079-6361bff53061"
      },
      "execution_count": 35,
      "outputs": [
        {
          "output_type": "execute_result",
          "data": {
            "text/plain": [
              "'Honestly my favorite Szechuan place in the city!The flavors were so bold and delicious . Each dish was so unique and left an amazing after taste of me wanting more. Perfect place to go if you want to order family style to try a little bit of everything . Service was great! Workers were fast and attentive . Cocktails were strong and delicious! I really enjoy the tofu dish! The restaurant is dark which sets a very mature and welcoming vibe to it! People outside said \"this place looks good\" and I said \" it\\'s so good you guys have to go in\". Definitely worth checking out!'"
            ],
            "application/vnd.google.colaboratory.intrinsic+json": {
              "type": "string"
            }
          },
          "metadata": {},
          "execution_count": 35
        }
      ]
    }
  ]
}